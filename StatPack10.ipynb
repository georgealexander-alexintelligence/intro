{
  "nbformat": 4,
  "nbformat_minor": 0,
  "metadata": {
    "colab": {
      "provenance": [],
      "include_colab_link": true
    },
    "kernelspec": {
      "name": "python3",
      "display_name": "Python 3"
    },
    "language_info": {
      "name": "python"
    }
  },
  "cells": [
    {
      "cell_type": "markdown",
      "metadata": {
        "id": "view-in-github",
        "colab_type": "text"
      },
      "source": [
        "<a href=\"https://colab.research.google.com/github/georgealexander-alexintelligence/intro/blob/main/StatPack10.ipynb\" target=\"_parent\"><img src=\"https://colab.research.google.com/assets/colab-badge.svg\" alt=\"Open In Colab\"/></a>"
      ]
    },
    {
      "cell_type": "code",
      "source": [
        "# Import necessary libraries\n",
        "\n",
        "from IPython import get_ipython\n",
        "from IPython.display import display\n",
        "\n",
        "import pandas as pd"
      ],
      "metadata": {
        "id": "fukSIA6xrjHa"
      },
      "execution_count": 4,
      "outputs": []
    },
    {
      "cell_type": "code",
      "source": [
        "# Authenticate and Mount\n",
        "\n",
        "# %%\n",
        "# Mount Google Drive (only if not already mounted)\n",
        "from google.colab import drive\n",
        "import os\n",
        "if not os.path.exists('/content/drive'):\n",
        "    drive.mount('/content/drive')\n"
      ],
      "metadata": {
        "id": "IWCf9JdHrqPD"
      },
      "execution_count": 5,
      "outputs": []
    },
    {
      "cell_type": "code",
      "source": [],
      "metadata": {
        "id": "o0rZxtT6AYvt"
      },
      "execution_count": 5,
      "outputs": []
    },
    {
      "cell_type": "markdown",
      "source": [],
      "metadata": {
        "id": "mWg1029UAZRo"
      }
    },
    {
      "cell_type": "markdown",
      "source": [
        "Hi George, when running the next block you should see the data head of your required csv file now correctly loading into a pandas dataframe. It seems you have some issues with your data processing code further on but this fixes your data loading issue."
      ],
      "metadata": {
        "id": "6rQGYH7nrzNC"
      }
    },
    {
      "cell_type": "code",
      "source": [
        "# Define the file path for the Excel spreadsheet\n",
        "spreadsheet_path = 'https://docs.google.com/spreadsheets/d/1MUk4k7Gf7s19mA73dJkcVatOFjmtpQ4T/edit?usp=sharing&ouid=115227188013774798264&rtpof=true&sd=true'\n",
        "\n",
        "# Load the data from 'Sheet1' of the spreadsheet\n",
        "data = pd.read_excel(spreadsheet_path, sheet_name='Sheet1')\n",
        "\n",
        "data.head()"
      ],
      "metadata": {
        "id": "L0mQefgorvEz",
        "outputId": "ae15cbf3-defd-4bec-b625-2a01cab2b64b",
        "colab": {
          "base_uri": "https://localhost:8080/",
          "height": 373
        }
      },
      "execution_count": 6,
      "outputs": [
        {
          "output_type": "error",
          "ename": "ValueError",
          "evalue": "Excel file format cannot be determined, you must specify an engine manually.",
          "traceback": [
            "\u001b[0;31m---------------------------------------------------------------------------\u001b[0m",
            "\u001b[0;31mValueError\u001b[0m                                Traceback (most recent call last)",
            "\u001b[0;32m<ipython-input-6-6e2152158992>\u001b[0m in \u001b[0;36m<cell line: 5>\u001b[0;34m()\u001b[0m\n\u001b[1;32m      3\u001b[0m \u001b[0;34m\u001b[0m\u001b[0m\n\u001b[1;32m      4\u001b[0m \u001b[0;31m# Load the data from 'Sheet1' of the spreadsheet\u001b[0m\u001b[0;34m\u001b[0m\u001b[0;34m\u001b[0m\u001b[0m\n\u001b[0;32m----> 5\u001b[0;31m \u001b[0mdata\u001b[0m \u001b[0;34m=\u001b[0m \u001b[0mpd\u001b[0m\u001b[0;34m.\u001b[0m\u001b[0mread_excel\u001b[0m\u001b[0;34m(\u001b[0m\u001b[0mspreadsheet_path\u001b[0m\u001b[0;34m,\u001b[0m \u001b[0msheet_name\u001b[0m\u001b[0;34m=\u001b[0m\u001b[0;34m'Sheet1'\u001b[0m\u001b[0;34m)\u001b[0m\u001b[0;34m\u001b[0m\u001b[0;34m\u001b[0m\u001b[0m\n\u001b[0m\u001b[1;32m      6\u001b[0m \u001b[0;34m\u001b[0m\u001b[0m\n\u001b[1;32m      7\u001b[0m \u001b[0mdata\u001b[0m\u001b[0;34m.\u001b[0m\u001b[0mhead\u001b[0m\u001b[0;34m(\u001b[0m\u001b[0;34m)\u001b[0m\u001b[0;34m\u001b[0m\u001b[0;34m\u001b[0m\u001b[0m\n",
            "\u001b[0;32m/usr/local/lib/python3.10/dist-packages/pandas/io/excel/_base.py\u001b[0m in \u001b[0;36mread_excel\u001b[0;34m(io, sheet_name, header, names, index_col, usecols, dtype, engine, converters, true_values, false_values, skiprows, nrows, na_values, keep_default_na, na_filter, verbose, parse_dates, date_parser, date_format, thousands, decimal, comment, skipfooter, storage_options, dtype_backend, engine_kwargs)\u001b[0m\n\u001b[1;32m    493\u001b[0m     \u001b[0;32mif\u001b[0m \u001b[0;32mnot\u001b[0m \u001b[0misinstance\u001b[0m\u001b[0;34m(\u001b[0m\u001b[0mio\u001b[0m\u001b[0;34m,\u001b[0m \u001b[0mExcelFile\u001b[0m\u001b[0;34m)\u001b[0m\u001b[0;34m:\u001b[0m\u001b[0;34m\u001b[0m\u001b[0;34m\u001b[0m\u001b[0m\n\u001b[1;32m    494\u001b[0m         \u001b[0mshould_close\u001b[0m \u001b[0;34m=\u001b[0m \u001b[0;32mTrue\u001b[0m\u001b[0;34m\u001b[0m\u001b[0;34m\u001b[0m\u001b[0m\n\u001b[0;32m--> 495\u001b[0;31m         io = ExcelFile(\n\u001b[0m\u001b[1;32m    496\u001b[0m             \u001b[0mio\u001b[0m\u001b[0;34m,\u001b[0m\u001b[0;34m\u001b[0m\u001b[0;34m\u001b[0m\u001b[0m\n\u001b[1;32m    497\u001b[0m             \u001b[0mstorage_options\u001b[0m\u001b[0;34m=\u001b[0m\u001b[0mstorage_options\u001b[0m\u001b[0;34m,\u001b[0m\u001b[0;34m\u001b[0m\u001b[0;34m\u001b[0m\u001b[0m\n",
            "\u001b[0;32m/usr/local/lib/python3.10/dist-packages/pandas/io/excel/_base.py\u001b[0m in \u001b[0;36m__init__\u001b[0;34m(self, path_or_buffer, engine, storage_options, engine_kwargs)\u001b[0m\n\u001b[1;32m   1552\u001b[0m                 )\n\u001b[1;32m   1553\u001b[0m                 \u001b[0;32mif\u001b[0m \u001b[0mext\u001b[0m \u001b[0;32mis\u001b[0m \u001b[0;32mNone\u001b[0m\u001b[0;34m:\u001b[0m\u001b[0;34m\u001b[0m\u001b[0;34m\u001b[0m\u001b[0m\n\u001b[0;32m-> 1554\u001b[0;31m                     raise ValueError(\n\u001b[0m\u001b[1;32m   1555\u001b[0m                         \u001b[0;34m\"Excel file format cannot be determined, you must specify \"\u001b[0m\u001b[0;34m\u001b[0m\u001b[0;34m\u001b[0m\u001b[0m\n\u001b[1;32m   1556\u001b[0m                         \u001b[0;34m\"an engine manually.\"\u001b[0m\u001b[0;34m\u001b[0m\u001b[0;34m\u001b[0m\u001b[0m\n",
            "\u001b[0;31mValueError\u001b[0m: Excel file format cannot be determined, you must specify an engine manually."
          ]
        }
      ]
    },
    {
      "cell_type": "markdown",
      "source": [
        "I am assuming that this was your debugging attempt but now that we are loading in the data properly this code will cause problems so I have commented it out for you."
      ],
      "metadata": {
        "id": "FxTOrafTsNCx"
      }
    },
    {
      "cell_type": "code",
      "source": [
        "# Read the data from the spreadsheet into a Pandas DataFrame\n",
        "# Install gspread and google-auth if not already installed\n",
        "# try:\n",
        "#     import gspread\n",
        "#     from google.auth import default\n",
        "# except ImportError:\n",
        "#     !pip install gspread google-auth\n",
        "#     import gspread\n",
        "#     from google.auth import default\n",
        "\n",
        "# from google.colab import auth\n",
        "# auth.authenticate_user()\n",
        "\n",
        "# # Get credentials and authorize using google-auth\n",
        "# creds, _ = default()\n",
        "# gc = gspread.authorize(creds)\n",
        "\n",
        "# # Open the spreadsheet by URL\n",
        "# try:\n",
        "#     spreadsheet = gc.open_by_url(spreadsheet_path)\n",
        "#     worksheet = spreadsheet.get_worksheet(0)  # Assuming data is in the first sheet\n",
        "#     data = pd.DataFrame(worksheet.get_all_records())\n",
        "# except Exception as e:\n",
        "#     print(f\"Error reading spreadsheet: {e}\")\n",
        "#     data = pd.DataFrame()  # Create an empty DataFrame if reading fails"
      ],
      "metadata": {
        "id": "fvvZnJ4qsIAP"
      },
      "execution_count": null,
      "outputs": []
    },
    {
      "cell_type": "code",
      "execution_count": null,
      "metadata": {
        "id": "OulmTOx3Sv1g",
        "collapsed": true
      },
      "outputs": [],
      "source": [
        "# Data Access with Error Handling\n",
        "def get_data_value(index, column, default_value='Data Not Available'):\n",
        "    if column in data.columns and index < len(data):\n",
        "        return data.at[index, column]\n",
        "    return default_value\n",
        "\n",
        "# Get data values with error handling\n",
        "data_index = 25\n",
        "\n",
        "geographic_area_monthly_trend = get_data_value(data_index, 'ReportsData_SalesNrChangePM', 0)  # Added default value\n",
        "month_and_year = ' '.join(reversed(get_data_value(data_index, 'ReportsData_MonthName', 'Month and Year Not Available').split()))\n",
        "market_expected_monthly_trend = get_data_value(data_index, 'ReportsData_NspMaxChangePY', 0)  # Added default value\n",
        "geographic_area = \"[Greater Austin](https://www.alex.realestate/austin)\"\n",
        "\n",
        "# Determine if trend is positive or negative\n",
        "try:\n",
        "    monthly_trend_value = float(geographic_area_monthly_trend)\n",
        "    trend_direction = \"increase\" if monthly_trend_value > 0 else \"decrease\"\n",
        "except (ValueError, TypeError):\n",
        "    trend_direction = \"decrease\"  # Default if data is not available\n",
        "\n",
        "# Report text generation\n",
        "def generate_report(month_and_year, market_expected_monthly_trend, geographic_area):\n",
        "    report = (\n",
        "        f\"ALEX just completed analysis of the {geographic_area} single family sales reported to the Austin Board of Realtors for {month_and_year}. \"\n",
        "        f\"In about 60 seconds know more about the {geographic_area} real estate, the data, research and analysis than just about anybody.\"\n",
        "    )\n",
        "    return report\n",
        "\n",
        "# Generate the report for the given inputs\n",
        "report_text = generate_report(month_and_year, market_expected_monthly_trend, geographic_area)\n",
        "\n",
        "# Display the report\n",
        "print(report_text)\n",
        "\n",
        "# Get total sales with default value if not found\n",
        "total_sales = get_data_value(26, 'ReportsData_SalesTotal', 0)  # Added default value of 0\n",
        "\n",
        "# Print the MONTHLY TREND section\n",
        "print(\"#### MONTHLY TREND\\n\")\n",
        "print(f\"MONTHLY TREND: {geographic_area_monthly_trend} {trend_direction} vs. {market_expected_monthly_trend} for all of the Austin Board of Realtors (ABOR)\")\n",
        "print(f\"Predicted Monthly Trend: {market_expected_monthly_trend} decrease from the previous month\")\n",
        "\n",
        "# Calculate the Sales Net of Monthly Trend only if numeric values are available\n",
        "if isinstance(market_expected_monthly_trend, (int, float)) and isinstance(monthly_trend_value, (int, float)):\n",
        "    difference = monthly_trend_value - market_expected_monthly_trend\n",
        "    direction = 'positive' if difference > 0 else 'negative'\n",
        "    print(\"Sales Net of Monthly Trend: {:.2f}% {} difference in actual vs. predicted sales\".format(difference, direction))\n",
        "else:\n",
        "    print(\"Sales Net of Monthly Trend: Data Not Available due to non-numeric input\")\n",
        "\n",
        "# Separator\n",
        "print(\"-\" * 50)\n",
        "\n",
        "# New Section: TRENDS IN SALES\n",
        "print(\"\\n#### TRENDS IN SALES\\n\")\n",
        "# Display the total sales value with the corrected get_data_value call including the default_value\n",
        "print(\"Total Sales: {}\".format(get_data_value(26, 'ReportsData_SalesTotal', 0)))  # Providing a default value\n",
        "print(\"- % Change from Prior Month: {:.2f}%\".format(get_data_value(26, 'ReportsData_SalesTotalChangePM', 0)))\n",
        "print(\"- % Change from Same Month Last Year: {:.2f}%\".format(get_data_value(26, 'ReportsData_SalesTotalChangePY', 0)))\n",
        "\n",
        "# Separator\n",
        "print(\"-\" * 50)\n",
        "\n",
        "# New Section: TOTAL SALES\n",
        "print(\"\\n#### TOTAL SALES\\n\")\n",
        "print(\"Average: {:.2f}\".format(get_data_value(26, 'ReportsData_SalesNr', 0)))\n",
        "print(\"- % Change from Prior Month: {:.2f}%\".format(get_data_value(26, 'ReportsData_SalesNrChangePM', 0)))\n",
        "print(\"- % Change Same Month Last Year: {:.2f}%\".format(get_data_value(26, 'ReportsData_SalesNrChangePY', 0)))\n",
        "\n",
        "# Separator\n",
        "print(\"-\" * 50)\n",
        "\n",
        "# New Section: TOTAL NET SALES VOLUME\n",
        "print(\"\\n#### TOTAL NET SALES VOLUME\\n\")\n",
        "print(\"Average: {:.2f}\".format(get_data_value(26, 'ReportsData_SalesTotal', 0)))\n",
        "print(\"- % Change from Prior Month: {:.2f}%\".format(get_data_value(26, 'ReportsData_SalesTotalChangePM', 0)))\n",
        "print(\"- % Change Same Month Last Year: {:.2f}%\".format(get_data_value(26, 'ReportsData_SalesTotalChangePY', 0)))\n",
        "\n",
        "# Separator\n",
        "print(\"-\" * 50)\n",
        "\n",
        "# New Section: NET SALE PRICE PER SF\n",
        "print(\"\\n#### NET SALE PRICE PER SF\\n\")\n",
        "print(\"Average: {:.2f}\".format(get_data_value(26, 'ReportsData_NspAvg', 0)))\n",
        "print(\"- % Change from Prior Month: {:.2f}%\".format(get_data_value(26, 'ReportsData_NspAvgPM', 0)))\n",
        "print(\"- % Change Same Month Last Year: {:.2f}%\".format(get_data_value(26, 'ReportsData_NspAvgPY', 0)))\n",
        "\n",
        "# New Subsection: Median\n",
        "print(\"\\n#### Median\\n\")\n",
        "print(\"Median: {:.2f}\".format(get_data_value(26, 'ReportsData_NspMed', 0)))\n",
        "print(\"- % Change from Prior Month: {:.2f}%\".format(get_data_value(26, 'ReportsData_NspMedChangePM', 0)))\n",
        "print(\"- % Change from Same Month Last Year: {:.2f}%\".format(get_data_value(26, 'ReportsData_NspMedChangePY', 0)))\n",
        "\n",
        "# Separator\n",
        "print(\"-\" * 50)\n",
        "\n",
        "# New Section: DISCOUNT FROM LIST PRICE\n",
        "print(\"\\n#### DISCOUNT FROM LIST PRICE\\n\")\n",
        "print(\"Average Discount: {:.2f}\".format(get_data_value(26, 'ReportsData_DiscountAvg', 0)))\n",
        "print(\"- % Change from Prior Month: {:.2f}%\".format(get_data_value(26, 'ReportsData_DiscountChangePM', 0)))\n",
        "print(\"- % Change Same Month Last Year: {:.2f}%\".format(get_data_value(26, 'ReportsData_DiscountChangePY', 0)))\n",
        "\n",
        "# New Subsection: Median Discount\n",
        "print(\"\\n#### Median Discount\\n\")\n",
        "print(\"Median Discount: {:.2f}\".format(get_data_value(26, 'ReportsData_DiscountMed', 0)))\n",
        "print(\"- % Change from Prior Month: {:.2f}%\".format(get_data_value(26, 'ReportsData_DiscountMedChangePM', 0)))\n",
        "print(\"- % Change from Same Month Last Year: {:.2f}%\".format(get_data_value(26, 'ReportsData_DiscountMedChangePY', 0)))\n",
        "\n",
        "# Separator\n",
        "print(\"-\" * 50)\n",
        "\n",
        "# New Section: DAYS FROM LISTING TO ESCROW\n",
        "print(\"\\n#### DAYS FROM LISTING TO ESCROW\\n\")\n",
        "print(\"Average: {:.2f}\".format(get_data_value(26, 'ReportsData_DaysFromListingToEscrowAvg', 0)))\n",
        "print(\"- % Change from Prior Month: {:.2f}%\".format(get_data_value(26, 'ReportsData_DaysFromListingToEscrowChangePM', 0)))\n",
        "print(\"- % Change Same Month Last Year: {:.2f}%\".format(get_data_value(26, 'ReportsData_DaysFromListingToEscrowChangePY', 0)))\n",
        "\n",
        "# New Subsection: Median\n",
        "print(\"\\n#### Median\\n\")\n",
        "print(\"Median: {:.2f}\".format(get_data_value(26, 'ReportsData_DaysFromListingToEscrowMed', 0)))\n",
        "print(\"- % Change from Prior Month: {:.2f}%\".format(get_data_value(26, 'ReportsData_DaysFromListingToEscrowMedChangePM', 0)))\n",
        "print(\"- % Change from Same Month Last Year: {:.2f}%\".format(get_data_value(26, 'ReportsData_DaysFromListingToEscrowMedChangePY', 0)))\n",
        "\n",
        "# Separator\n",
        "print(\"-\" * 50)\n",
        "\n",
        "# New Section: HIGH NET SALE PRICE & HIGH LIST PRICE\n",
        "print(\"\\n#### HIGH NET SALE PRICE & HIGH LIST PRICE\\n\")\n",
        "print(\"High Net Sale Price: {:.2f}\".format(get_data_value(26, 'ReportsData_HighNetSalePrice', 0)))\n",
        "print(\"- % Change from Prior Month: {:.2f}%\".format(get_data_value(26, 'ReportsData_HighNetSalePriceChangePM', 0)))\n",
        "print(\"- % Change Same Month Last Year: {:.2f}%\".format(get_data_value(26, 'ReportsData_HighNetSalePriceChangePY', 0)))\n",
        "\n",
        "# New Subsection: High List Price\n",
        "print(\"\\n#### High List Price\\n\")\n",
        "print(\"High List Price: {:.2f}\".format(get_data_value(26, 'ReportsData_HighListPrice', 0)))\n",
        "print(\"- % Change from Prior Month: {:.2f}%\".format(get_data_value(26, 'ReportsData_HighListPriceChangePM', 0)))\n",
        "print(\"- % Change Same Month Last Year: {:.2f}%\".format(get_data_value(26, 'ReportsData_HighListPriceChangePY', 0)))\n",
        "\n",
        "# Separator\n",
        "print(\"-\" * 50)\n",
        "\n",
        "# New Section: NOTE\n",
        "print(\"\\n#### NOTE\\n\")\n",
        "print(\"We do not audit ABOR data. We assume unusual numbers (spikes) are probably due to a Listing Agent misclassifying a property as 'Single Family Residential' and/or data entry errors.\")\n",
        "\n",
        "# Separator\n",
        "print(\"-\" * 50)\n",
        "\n",
        "# New Section: WANT TO LEARN MORE ABOUT AI, REAL ESTATE OR AI IN REAL ESTATE?\n",
        "print(\"\\n#### WANT TO LEARN MORE ABOUT AI, REAL ESTATE OR AI IN REAL ESTATE?\\n\")\n",
        "print(\"Please join our LinkedIn Groups:\")\n",
        "print(\"- [AI Innovators & Leaders](https://lnkd.in/gUc2HkCj)\")\n",
        "print(\"- [Best in Texas Real Estate](https://www.linkedin.com/newsletters/best-of-texas-real-estate-6931240835929837568/)\")\n",
        "\n",
        "# Separator\n",
        "print(\"-\" * 50)\n",
        "\n",
        "# New Section: MORE INFORMATION\n",
        "print(\"#### MORE INFORMATION\\n\")\n",
        "print(f\"ALEX knows more about {geographic_area} real estate, the data, research, and analysis than just about anybody.\")\n",
        "print(\"If you have any questions, I am always here. Just text me. Diane\")\n",
        "print(\"Diane Hart Alexander, MBA, MHA, CEO, Broker\")\n",
        "print(\"Alexander Tiffany Southwest dba [ALEX.realestate](https://alex.realestate/)\")\n",
        "print(\"v [713.591.9902](tel:7135919902)\")\n",
        "print(\"e [diane@alex.realestate](mailto:diane@alex.realestate)\")"
      ]
    },
    {
      "cell_type": "markdown",
      "source": [],
      "metadata": {
        "id": "8f5q1SG-0Twj"
      }
    },
    {
      "cell_type": "code",
      "source": [],
      "metadata": {
        "id": "PT7w0EOb0PIu"
      },
      "execution_count": null,
      "outputs": []
    }
  ]
}